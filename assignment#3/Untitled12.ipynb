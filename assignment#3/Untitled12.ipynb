{
 "cells": [
  {
   "cell_type": "code",
   "execution_count": 1,
   "id": "b3302711",
   "metadata": {},
   "outputs": [
    {
     "name": "stdout",
     "output_type": "stream",
     "text": [
      "twinkle, twinkle, little star, \n",
      "\tHow I wonder what you are! \n",
      "\t\tUp above the world so high, \n",
      "\t\tLike a diamond in the sky. \n",
      "Twinkle, twinkle, little star, \n",
      "\tHow I wonder what you are!\n"
     ]
    }
   ],
   "source": [
    "print(\"twinkle, twinkle, little star, \\n\\tHow I wonder what you are! \\n\\t\\tUp above the world so high, \\n\\t\\tLike a diamond in the sky. \\nTwinkle, twinkle, little star, \\n\\tHow I wonder what you are!\")"
   ]
  },
  {
   "cell_type": "code",
   "execution_count": 2,
   "id": "e8c5cb90",
   "metadata": {},
   "outputs": [
    {
     "name": "stdout",
     "output_type": "stream",
     "text": [
      "python_version\n",
      "3.8.8 (default, Apr 13 2021, 15:08:03) [MSC v.1916 64 bit (AMD64)]\n",
      "version info.\n",
      "sys.version_info(major=3, minor=8, micro=8, releaselevel='final', serial=0)\n"
     ]
    }
   ],
   "source": [
    "import sys\n",
    "print(\"python_version\")\n",
    "print(sys.version)\n",
    "print(\"version info.\")\n",
    "print(sys.version_info)"
   ]
  },
  {
   "cell_type": "code",
   "execution_count": 3,
   "id": "86ff3e25",
   "metadata": {},
   "outputs": [
    {
     "name": "stdout",
     "output_type": "stream",
     "text": [
      "Current date and time\n",
      "2021-10-23-11-30-25\n"
     ]
    }
   ],
   "source": [
    "import datetime\n",
    "now= datetime.datetime.now()\n",
    "print(\"Current date and time\");\n",
    "print(now.strftime(\"%Y-%m-%d-%H-%M-%S\"))"
   ]
  },
  {
   "cell_type": "code",
   "execution_count": 4,
   "id": "47552f96",
   "metadata": {},
   "outputs": [
    {
     "name": "stdout",
     "output_type": "stream",
     "text": [
      "input the radius of the circle:76\n",
      "the area of the circle with radius76.0is18145.839167134644\n"
     ]
    }
   ],
   "source": [
    "from math import pi\n",
    "r=float(input(\"input the radius of the circle:\"))\n",
    "print(\"the area of the circle with radius\" + str(r) + \"is\" + str(pi*r**2))"
   ]
  },
  {
   "cell_type": "code",
   "execution_count": 5,
   "id": "119fb2c1",
   "metadata": {},
   "outputs": [
    {
     "name": "stdout",
     "output_type": "stream",
     "text": [
      "Input Your First Name Iqra\n",
      "Input Your Last Name Kiyani\n",
      "Hello Kiyani Iqra\n"
     ]
    }
   ],
   "source": [
    "Fname=input(\"Input Your First Name\");\n",
    "Lname=input(\"Input Your Last Name\");\n",
    "print(\"Hello\" + Lname + \"\" + Fname)"
   ]
  },
  {
   "cell_type": "code",
   "execution_count": 6,
   "id": "1fd8e7e6",
   "metadata": {},
   "outputs": [
    {
     "name": "stdout",
     "output_type": "stream",
     "text": [
      "enter firs number65\n",
      "enter second number78\n",
      "sum 143\n"
     ]
    }
   ],
   "source": [
    "a=int(input(\"enter firs number\"))\n",
    "b=int(input(\"enter second number\"))\n",
    "sum= a+b\n",
    "print(\"sum\", sum)"
   ]
  },
  {
   "cell_type": "code",
   "execution_count": 7,
   "id": "03f678f7",
   "metadata": {},
   "outputs": [
    {
     "name": "stdout",
     "output_type": "stream",
     "text": [
      "enter english marks89\n",
      "enter urdu marks91\n",
      "enter math marks94\n",
      "enter isl marks92\n",
      "enter phy marks88\n",
      "total_marks 500\n",
      "obtained_marks 454\n",
      "average 90.8\n",
      "grade A+\n"
     ]
    }
   ],
   "source": [
    "eng=int(input(\"enter english marks\"))\n",
    "urdu=int(input(\"enter urdu marks\"))\n",
    "math=int(input(\"enter math marks\"))\n",
    "isl=int(input(\"enter isl marks\"))\n",
    "phy=int(input(\"enter phy marks\"))\n",
    "total_marks= 500;\n",
    "print(\"total_marks\", total_marks);\n",
    "obtained_marks= eng + urdu + math + isl + phy;\n",
    "average=(obtained_marks/total_marks)*100;\n",
    "print(\"obtained_marks\", obtained_marks);\n",
    "print(\"average\", average);\n",
    "avg=int(average)\n",
    "if(avg>=90):\n",
    "    print(\"grade A+\")\n",
    "elif(avg<90&avg>=80):\n",
    "    print(\"grade A\")\n",
    "elif(avg<80&avg>=70):\n",
    "    print(\"grade B+\")\n",
    "elif(avg<70&avg>=60):\n",
    "    print(\"grade B\")\n",
    "elif(avg<60&avg>=50):\n",
    "    print(\"grade C\")\n",
    "elif(avg<50&avg>40):\n",
    "    print(\"grade E\")\n",
    "elif(avg<40&avg>=33):\n",
    "    print(\"grade E\")\n",
    "else:\n",
    "     print(\"Fail\");\n"
   ]
  },
  {
   "cell_type": "code",
   "execution_count": 8,
   "id": "49cbc546",
   "metadata": {},
   "outputs": [
    {
     "name": "stdout",
     "output_type": "stream",
     "text": [
      "enter a number:67\n",
      "67 is an odd number\n"
     ]
    }
   ],
   "source": [
    "num=int(input(\"enter a number:\"))\n",
    "if(num % 2)==0:\n",
    "    print(\"{0} is an even number\".format(num))\n",
    "else:\n",
    "    print(\"{0} is an odd number\".format(num))\n"
   ]
  },
  {
   "cell_type": "code",
   "execution_count": 9,
   "id": "8aa66323",
   "metadata": {},
   "outputs": [
    {
     "name": "stdout",
     "output_type": "stream",
     "text": [
      "number of item in the list= 7\n"
     ]
    }
   ],
   "source": [
    "ListName = [\"Mango\",\"Apple\", 1,2,3,4,5]\n",
    "print(\"number of item in the list=\", len(ListName))"
   ]
  },
  {
   "cell_type": "code",
   "execution_count": 10,
   "id": "00efe26d",
   "metadata": {},
   "outputs": [
    {
     "name": "stdout",
     "output_type": "stream",
     "text": [
      "sum of numbers in list: 229\n"
     ]
    }
   ],
   "source": [
    "num=[4,7,88,45,76,9]\n",
    "sum=0\n",
    "for ele in range(0+len(num)):\n",
    "    sum=sum+num[ele]\n",
    "print(\"sum of numbers in list:\", sum)"
   ]
  },
  {
   "cell_type": "code",
   "execution_count": 11,
   "id": "1129b5f1",
   "metadata": {},
   "outputs": [
    {
     "name": "stdout",
     "output_type": "stream",
     "text": [
      "largest number is 112\n"
     ]
    }
   ],
   "source": [
    "num=[88,67,105,76,36,112]\n",
    "print(\"largest number is\", max(num))"
   ]
  },
  {
   "cell_type": "code",
   "execution_count": 12,
   "id": "204dbeaf",
   "metadata": {},
   "outputs": [
    {
     "name": "stdout",
     "output_type": "stream",
     "text": [
      "[1, 3, 4, 2, 1]\n"
     ]
    }
   ],
   "source": [
    "a=[1,8,9,37,3,4,5,89,2,1];\n",
    "b=[];\n",
    "for i in a:\n",
    "    if(i<5):\n",
    "        b.append(i);\n",
    "print(b);\n"
   ]
  }
 ],
 "metadata": {
  "kernelspec": {
   "display_name": "Python 3",
   "language": "python",
   "name": "python3"
  },
  "language_info": {
   "codemirror_mode": {
    "name": "ipython",
    "version": 3
   },
   "file_extension": ".py",
   "mimetype": "text/x-python",
   "name": "python",
   "nbconvert_exporter": "python",
   "pygments_lexer": "ipython3",
   "version": "3.8.8"
  }
 },
 "nbformat": 4,
 "nbformat_minor": 5
}
